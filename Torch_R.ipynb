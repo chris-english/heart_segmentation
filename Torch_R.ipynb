{
  "nbformat": 4,
  "nbformat_minor": 0,
  "metadata": {
    "colab": {
      "name": "Torch_R.ipynb",
      "provenance": [],
      "authorship_tag": "ABX9TyO5cQQb9DVZEhrRFokVmYbm",
      "include_colab_link": true
    },
    "kernelspec": {
      "name": "ir",
      "display_name": "R"
    },
    "accelerator": "TPU"
  },
  "cells": [
    {
      "cell_type": "markdown",
      "metadata": {
        "id": "view-in-github",
        "colab_type": "text"
      },
      "source": [
        "<a href=\"https://colab.research.google.com/github/chris-english/heart_segmentation/blob/master/Torch_R.ipynb\" target=\"_parent\"><img src=\"https://colab.research.google.com/assets/colab-badge.svg\" alt=\"Open In Colab\"/></a>"
      ]
    },
    {
      "cell_type": "markdown",
      "metadata": {
        "id": "q5dXit9b1T0w"
      },
      "source": [
        "Get some libs needed for R packages"
      ]
    },
    {
      "cell_type": "markdown",
      "metadata": {
        "id": "egFu--jkzD76"
      },
      "source": [
        "It is tempting to bulk list needed  libraries like so: system('sudo apt-get install libtorch libmagick++-dev libavfilter-dev librsvg2 libwebp libpoppler-cpp-dev poppler-data')[this is not complete list] but it seemed not to work or work reliably so the following approach was used. Individual install(s)"
      ]
    },
    {
      "cell_type": "code",
      "metadata": {
        "id": "40AW8RrYWxbG"
      },
      "source": [
        "system('sudo apt-get install libmagick++-dev')"
      ],
      "execution_count": 1,
      "outputs": []
    },
    {
      "cell_type": "code",
      "metadata": {
        "id": "Yo6mKUBKXXhR"
      },
      "source": [
        "system('sudo apt-get install libavfilter-dev')"
      ],
      "execution_count": 2,
      "outputs": []
    },
    {
      "cell_type": "code",
      "metadata": {
        "id": "MLcjP2JQXnnw"
      },
      "source": [
        "system('sudo apt-get install librsvg2-dev')"
      ],
      "execution_count": 3,
      "outputs": []
    },
    {
      "cell_type": "code",
      "metadata": {
        "id": "KlLLMCuHYYSE"
      },
      "source": [
        "system('sudo apt-get install libwebp-dev')"
      ],
      "execution_count": 4,
      "outputs": []
    },
    {
      "cell_type": "code",
      "metadata": {
        "id": "NLN5Qy5YY1DM"
      },
      "source": [
        "system('sudo apt-get install libpoppler-cpp-dev poppler-data')"
      ],
      "execution_count": 5,
      "outputs": []
    },
    {
      "cell_type": "code",
      "metadata": {
        "id": "yFmZK3lKZpcS"
      },
      "source": [
        "system('sudo apt-get install libtesseract-dev')"
      ],
      "execution_count": 6,
      "outputs": []
    },
    {
      "cell_type": "code",
      "metadata": {
        "id": "BNBDgN5UZ6l-"
      },
      "source": [
        "system('sudo apt-get install libleptonica-dev')"
      ],
      "execution_count": 7,
      "outputs": []
    },
    {
      "cell_type": "code",
      "metadata": {
        "id": "AvDWlsGlaMhS"
      },
      "source": [
        "system('sudo apt-get install tesseract-ocr-eng')"
      ],
      "execution_count": 8,
      "outputs": []
    },
    {
      "cell_type": "code",
      "metadata": {
        "id": "GWGZKe_kacAB"
      },
      "source": [
        "system('sudo apt-get install libx264-dev')"
      ],
      "execution_count": 9,
      "outputs": []
    },
    {
      "cell_type": "code",
      "metadata": {
        "id": "wFwZIwI0ar8C"
      },
      "source": [
        "system('sudo apt-get install lame')"
      ],
      "execution_count": 10,
      "outputs": []
    },
    {
      "cell_type": "code",
      "metadata": {
        "id": "eBJo2whEa5fs"
      },
      "source": [
        "system('sudo apt-get install gcc')"
      ],
      "execution_count": 11,
      "outputs": []
    },
    {
      "cell_type": "markdown",
      "metadata": {
        "id": "ZefjITgt1jik"
      },
      "source": [
        "Install Rust"
      ]
    },
    {
      "cell_type": "markdown",
      "metadata": {
        "id": "pUe2lmPynWYx"
      },
      "source": [
        "There was a name change at rust now TLSv1.2, as different from what shows on rust-lang-org today oct 4 2020"
      ]
    },
    {
      "cell_type": "code",
      "metadata": {
        "id": "MofbsY7B1rcf"
      },
      "source": [
        "system('curl --proto \"=https\" --TLSv1.2 -sSf https::/sh.rustup.rs |sh')"
      ],
      "execution_count": 12,
      "outputs": []
    },
    {
      "cell_type": "markdown",
      "metadata": {
        "id": "G0MT000c24i-"
      },
      "source": [
        "install ubuntu cargo and pngquant anticipating install of gifski"
      ]
    },
    {
      "cell_type": "code",
      "metadata": {
        "id": "Y2ajHIvK2zWD"
      },
      "source": [
        "system('sudo apt-get install cargo pngquant')"
      ],
      "execution_count": 13,
      "outputs": []
    },
    {
      "cell_type": "markdown",
      "metadata": {
        "id": "zQBwZhBupXQc"
      },
      "source": [
        "and it looks like call [32] actually installed rustc as dep rather than [31], as seen in system logs"
      ]
    },
    {
      "cell_type": "code",
      "metadata": {
        "id": "gV4qDred3qlY"
      },
      "source": [
        "system('cargo install gifski')"
      ],
      "execution_count": 14,
      "outputs": []
    },
    {
      "cell_type": "markdown",
      "metadata": {
        "id": "ldHlB8fB8Aqn"
      },
      "source": [
        "now we'll see if we have all the libs we need for torchvision "
      ]
    },
    {
      "cell_type": "code",
      "metadata": {
        "id": "sDfzJ6u_qHsL",
        "outputId": "f95347bf-fca7-45c7-b0b1-96b178fcd7ee",
        "colab": {
          "base_uri": "https://localhost:8080/",
          "height": 910
        }
      },
      "source": [
        "devtools::install_github('mlverse/torchvision')"
      ],
      "execution_count": 15,
      "outputs": [
        {
          "output_type": "stream",
          "text": [
            "Downloading GitHub repo mlverse/torchvision@HEAD\n",
            "\n"
          ],
          "name": "stderr"
        },
        {
          "output_type": "stream",
          "text": [
            "torch    (NA -> 7664fda79...) [GitHub]\n",
            "bit      (NA -> 4.0.4       ) [CRAN]\n",
            "bit64    (NA -> 4.0.5       ) [CRAN]\n",
            "rappdirs (NA -> 0.3.1       ) [CRAN]\n",
            "magick   (NA -> 2.4.0       ) [CRAN]\n"
          ],
          "name": "stdout"
        },
        {
          "output_type": "stream",
          "text": [
            "Downloading GitHub repo mlverse/torch@HEAD\n",
            "\n"
          ],
          "name": "stderr"
        },
        {
          "output_type": "stream",
          "text": [
            "bit   (NA -> 4.0.4) [CRAN]\n",
            "bit64 (NA -> 4.0.5) [CRAN]\n"
          ],
          "name": "stdout"
        },
        {
          "output_type": "stream",
          "text": [
            "Installing 2 packages: bit, bit64\n",
            "\n",
            "Installing packages into ‘/usr/local/lib/R/site-library’\n",
            "(as ‘lib’ is unspecified)\n",
            "\n"
          ],
          "name": "stderr"
        },
        {
          "output_type": "stream",
          "text": [
            "\u001b[32m✔\u001b[39m  \u001b[90mchecking for file ‘/tmp/Rtmp4r7z19/remotes17362ad129ba/mlverse-torch-7664fda/DESCRIPTION’\u001b[39m\u001b[36m\u001b[39m\n",
            "\u001b[90m─\u001b[39m\u001b[90m  \u001b[39m\u001b[90mpreparing ‘torch’:\u001b[39m\u001b[36m\u001b[39m\n",
            "\u001b[32m✔\u001b[39m  \u001b[90mchecking DESCRIPTION meta-information\u001b[39m\u001b[36m\u001b[39m\n",
            "\u001b[90m─\u001b[39m\u001b[90m  \u001b[39m\u001b[90mcleaning src\u001b[39m\u001b[36m\u001b[39m\n",
            "\u001b[90m─\u001b[39m\u001b[90m  \u001b[39m\u001b[90mchecking for LF line-endings in source and make files and shell scripts\u001b[39m\u001b[36m\u001b[36m (522ms)\u001b[36m\u001b[39m\n",
            "\u001b[90m─\u001b[39m\u001b[90m  \u001b[39m\u001b[90mchecking for empty or unneeded directories\u001b[39m\u001b[36m\u001b[39m\n",
            "   Removed empty directory ‘torch/bench’\n",
            "   Removed empty directory ‘torch/docker’\n",
            "   Removed empty directory ‘torch/vignettes/examples’\n",
            "\u001b[90m─\u001b[39m\u001b[90m  \u001b[39m\u001b[90mbuilding ‘torch_0.1.0.9000.tar.gz’\u001b[39m\u001b[36m\u001b[39m\n",
            "   \n"
          ],
          "name": "stdout"
        },
        {
          "output_type": "stream",
          "text": [
            "Installing package into ‘/usr/local/lib/R/site-library’\n",
            "(as ‘lib’ is unspecified)\n",
            "\n",
            "Installing 4 packages: bit, bit64, rappdirs, magick\n",
            "\n",
            "Installing packages into ‘/usr/local/lib/R/site-library’\n",
            "(as ‘lib’ is unspecified)\n",
            "\n",
            "Skipping install of 'torch' from a github remote, the SHA1 (7664fda7) has not changed since last install.\n",
            "  Use `force = TRUE` to force installation\n",
            "\n"
          ],
          "name": "stderr"
        },
        {
          "output_type": "stream",
          "text": [
            "\u001b[32m✔\u001b[39m  \u001b[90mchecking for file ‘/tmp/Rtmp4r7z19/remotes1736669497d5/mlverse-torchvision-35717fa/DESCRIPTION’\u001b[39m\u001b[36m\u001b[39m\n",
            "\u001b[90m─\u001b[39m\u001b[90m  \u001b[39m\u001b[90mpreparing ‘torchvision’:\u001b[39m\u001b[36m\u001b[39m\n",
            "\u001b[32m✔\u001b[39m  \u001b[90mchecking DESCRIPTION meta-information\u001b[39m\u001b[36m\u001b[39m\n",
            "\u001b[90m─\u001b[39m\u001b[90m  \u001b[39m\u001b[90mchecking for LF line-endings in source and make files and shell scripts\u001b[39m\u001b[36m\u001b[39m\n",
            "\u001b[90m─\u001b[39m\u001b[90m  \u001b[39m\u001b[90mchecking for empty or unneeded directories\u001b[39m\u001b[36m\u001b[39m\n",
            "   Removed empty directory ‘torchvision/vignettes/examples’\n",
            "   Removed empty directory ‘torchvision/vignettes’\n",
            "\u001b[90m─\u001b[39m\u001b[90m  \u001b[39m\u001b[90mbuilding ‘torchvision_0.0.0.9000.tar.gz’\u001b[39m\u001b[36m\u001b[39m\n",
            "   \n"
          ],
          "name": "stdout"
        },
        {
          "output_type": "stream",
          "text": [
            "Installing package into ‘/usr/local/lib/R/site-library’\n",
            "(as ‘lib’ is unspecified)\n",
            "\n"
          ],
          "name": "stderr"
        }
      ]
    },
    {
      "cell_type": "code",
      "metadata": {
        "id": "sVnA25m6rTxa"
      },
      "source": [
        "library(torch)"
      ],
      "execution_count": 16,
      "outputs": []
    },
    {
      "cell_type": "code",
      "metadata": {
        "id": "3uy0n9QSrlX-"
      },
      "source": [
        "library(torchvision)"
      ],
      "execution_count": 17,
      "outputs": []
    },
    {
      "cell_type": "code",
      "metadata": {
        "id": "DLfAJaIxsDd-",
        "outputId": "1a7675fd-fcf8-4702-e8ad-7e430baf827c",
        "colab": {
          "base_uri": "https://localhost:8080/",
          "height": 35
        }
      },
      "source": [
        "packageVersion('torchvision')"
      ],
      "execution_count": 18,
      "outputs": [
        {
          "output_type": "display_data",
          "data": {
            "text/plain": [
              "[1] ‘0.0.0.9000’"
            ]
          },
          "metadata": {
            "tags": []
          }
        }
      ]
    },
    {
      "cell_type": "markdown",
      "metadata": {
        "id": "VUpJtzAHrpIh"
      },
      "source": [
        "appears yes"
      ]
    },
    {
      "cell_type": "markdown",
      "metadata": {
        "id": "Ac5R8wl5tBiJ"
      },
      "source": [
        "now install needed R pkgs - oro.dicom, oro.nifti, neurobase"
      ]
    },
    {
      "cell_type": "code",
      "metadata": {
        "id": "M20aHlOBtMiE",
        "outputId": "3ee6babd-7914-43e5-810a-c0754aedf123",
        "colab": {
          "base_uri": "https://localhost:8080/",
          "height": 144
        }
      },
      "source": [
        "install.packages(c('oro.dicom','oro.nifti','neurobase'), dependencies = TRUE)"
      ],
      "execution_count": 19,
      "outputs": [
        {
          "output_type": "stream",
          "text": [
            "Installing packages into ‘/usr/local/lib/R/site-library’\n",
            "(as ‘lib’ is unspecified)\n",
            "\n",
            "also installing the dependencies ‘R.oo’, ‘R.methodsS3’, ‘plyr’, ‘hwriter’, ‘bitops’, ‘RNifti’, ‘XML’, ‘rticles’, ‘matrixStats’, ‘R.utils’, ‘reshape2’\n",
            "\n",
            "\n"
          ],
          "name": "stderr"
        }
      ]
    },
    {
      "cell_type": "markdown",
      "metadata": {
        "id": "gpO1jXySttNL"
      },
      "source": [
        "next to solve getting CT scans from google drive, perhaps like SOF?s 55607486"
      ]
    },
    {
      "cell_type": "markdown",
      "metadata": {
        "id": "jizt_sS93EWf"
      },
      "source": [
        "sez we have Python 3.6.9 (thru session logs), so do we have google.colab? or maybe for straight forward SOF?s 59746036"
      ]
    },
    {
      "cell_type": "markdown",
      "metadata": {
        "id": "RpBqX8AiRd2J"
      },
      "source": [
        "we are aslo going to need a bunch of R packages for processing of dicom files and these will also require underlying libraries so we'll prepare for that. First we'll get ready for R pkg imager requiring fftw3, libtiff and we'll assume C++11 is our compiler"
      ]
    },
    {
      "cell_type": "code",
      "metadata": {
        "id": "ZQ-EvMyaR7cx"
      },
      "source": [
        "system('sudo apt-get install libfftw3-dev')"
      ],
      "execution_count": 21,
      "outputs": []
    },
    {
      "cell_type": "code",
      "metadata": {
        "id": "FIAGommpTDIn"
      },
      "source": [
        "system('sudo apt-get install libtiff5-dev')"
      ],
      "execution_count": 22,
      "outputs": []
    },
    {
      "cell_type": "markdown",
      "metadata": {
        "id": "OObovHUJZxnT"
      },
      "source": [
        "we need a bunch of underlying libs for r spatial so se get them now: libudunits2-dev, libgdal-dev, libgeos-dev, libproj-dev, libfontconfit1-dev, r-base-dev, r-cran-sf, r-cran-raster, r-cran-java"
      ]
    },
    {
      "cell_type": "code",
      "metadata": {
        "id": "rOxwc1zsZ735"
      },
      "source": [
        "system('sudo apt-get install libudunits2-dev')"
      ],
      "execution_count": 25,
      "outputs": []
    },
    {
      "cell_type": "code",
      "metadata": {
        "id": "Hhx2S6AgbYMU"
      },
      "source": [
        "system('sudo apt-get install libgdal-dev')"
      ],
      "execution_count": 26,
      "outputs": []
    },
    {
      "cell_type": "code",
      "metadata": {
        "id": "hhAVSj9nbjrF"
      },
      "source": [
        "system('sudo apt-get install libgeos-dev')"
      ],
      "execution_count": 27,
      "outputs": []
    },
    {
      "cell_type": "code",
      "metadata": {
        "id": "gUu5s5-ybt4F"
      },
      "source": [
        "system('sudo apt-get install libproj-dev')"
      ],
      "execution_count": 28,
      "outputs": []
    },
    {
      "cell_type": "code",
      "metadata": {
        "id": "91WdZJGTb3c9"
      },
      "source": [
        "system('sudo apt-get install libfontconfig1-dev')"
      ],
      "execution_count": 29,
      "outputs": []
    },
    {
      "cell_type": "code",
      "metadata": {
        "id": "48iAV_umcCID"
      },
      "source": [
        "system('sudo apt-get install r-base-dev')"
      ],
      "execution_count": 30,
      "outputs": []
    },
    {
      "cell_type": "code",
      "metadata": {
        "id": "bzt0dO76cJjf"
      },
      "source": [
        "system('sudo apt-get install r-cran-sf')"
      ],
      "execution_count": 32,
      "outputs": []
    },
    {
      "cell_type": "code",
      "metadata": {
        "id": "dXE4flS6clF_"
      },
      "source": [
        "system('sudo apt-get install r-cran-raster')"
      ],
      "execution_count": 33,
      "outputs": []
    },
    {
      "cell_type": "code",
      "metadata": {
        "id": "X0tHeJkzcvXB"
      },
      "source": [
        "system('sudo apt-get install r-cran-rjava')"
      ],
      "execution_count": 36,
      "outputs": []
    },
    {
      "cell_type": "code",
      "metadata": {
        "id": "Kac6Zth5Y4k6",
        "outputId": "ad043b16-d50d-4a98-a2f3-7a36b1d4615d",
        "colab": {
          "base_uri": "https://localhost:8080/",
          "height": 124
        }
      },
      "source": [
        "install.packages('imager', dependencies = TRUE)"
      ],
      "execution_count": 37,
      "outputs": [
        {
          "output_type": "stream",
          "text": [
            "Installing package into ‘/usr/local/lib/R/site-library’\n",
            "(as ‘lib’ is unspecified)\n",
            "\n",
            "also installing the dependencies ‘spatstat’, ‘Cairo’\n",
            "\n",
            "\n"
          ],
          "name": "stderr"
        }
      ]
    },
    {
      "cell_type": "code",
      "metadata": {
        "id": "_H8jJ3u_UsEZ"
      },
      "source": [
        ""
      ],
      "execution_count": null,
      "outputs": []
    }
  ]
}